{
 "cells": [
  {
   "cell_type": "markdown",
   "id": "ddc96eb9",
   "metadata": {},
   "source": [
    "# Most Streamed Spotify Songs 2023\n",
    "\n",
    "The dataset was obtained from the Kaggle website."
   ]
  },
  {
   "cell_type": "markdown",
   "id": "c2b9c258",
   "metadata": {},
   "source": [
    "## Import required libraries and data"
   ]
  },
  {
   "cell_type": "code",
   "execution_count": null,
   "id": "869bbfed",
   "metadata": {},
   "outputs": [],
   "source": [
    "import pandas as pd\n",
    "import matplotlib.pyplot as plt\n",
    "import numpy as np\n",
    "import seaborn as sns\n",
    "import gdown"
   ]
  },
  {
   "cell_type": "code",
   "execution_count": null,
   "id": "79d18469",
   "metadata": {},
   "outputs": [
    {
     "ename": "NameError",
     "evalue": "name 'gdown' is not defined",
     "output_type": "error",
     "traceback": [
      "\u001b[31m---------------------------------------------------------------------------\u001b[39m\n",
      "\u001b[31mNameError\u001b[39m                                 Traceback (most recent call last)\n",
      "\u001b[36mCell\u001b[39m\u001b[36m \u001b[39m\u001b[32mIn[4]\u001b[39m\u001b[32m, line 6\u001b[39m\n",
      "\u001b[32m      3\u001b[39m url = \u001b[33mf\u001b[39m\u001b[33m\"\u001b[39m\u001b[33mhttps://drive.google.com/uc?id=\u001b[39m\u001b[38;5;132;01m{\u001b[39;00mfile_id\u001b[38;5;132;01m}\u001b[39;00m\u001b[33m\"\u001b[39m\n",
      "\u001b[32m      4\u001b[39m output = \u001b[33m\"\u001b[39m\u001b[33mletterboxd_movies.csv\u001b[39m\u001b[33m\"\u001b[39m\n",
      "\u001b[32m----> \u001b[39m\u001b[32m6\u001b[39m \u001b[43mgdown\u001b[49m.download(url, output, quiet=\u001b[38;5;28;01mFalse\u001b[39;00m)\n",
      "\u001b[32m      8\u001b[39m \u001b[38;5;66;03m# Load the dataset\u001b[39;00m\n",
      "\u001b[32m      9\u001b[39m df = pd.read_csv(output)\n",
      "\n",
      "\u001b[31mNameError\u001b[39m: name 'gdown' is not defined"
     ]
    }
   ],
   "source": [
    "# Get the dataset \n",
    "# https://drive.google.com/file/d/18CaLFN0gglTxBRrx_bHwO0VfO_o3iyhZ/view?usp=sharing\n",
    "file_id = \"18CaLFN0gglTxBRrx_bHwO0VfO_o3iyhZ\"\n",
    "url = f\"https://drive.google.com/uc?id={file_id}\"\n",
    "output = \"spotify_data.csv\"\n",
    "\n",
    "gdown.download(url, output, quiet=False)\n",
    "\n",
    "# Load the dataset\n",
    "df = pd.read_csv(output)\n",
    "df.head()"
   ]
  },
  {
   "cell_type": "code",
   "execution_count": null,
   "id": "bea47370",
   "metadata": {},
   "outputs": [],
   "source": [
    "df.info()"
   ]
  },
  {
   "cell_type": "markdown",
   "id": "8a96d28f",
   "metadata": {},
   "source": [
    "## Data Cleaning"
   ]
  }
 ],
 "metadata": {
  "language_info": {
   "name": "python"
  }
 },
 "nbformat": 4,
 "nbformat_minor": 5
}
