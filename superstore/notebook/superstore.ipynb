{
 "cells": [
  {
   "cell_type": "markdown",
   "id": "31badd7a",
   "metadata": {},
   "source": [
    "# Superstore Data Analysis\n",
    "\n",
    "This notebook demonstrates basic data loading and cleaning for the Superstore dataset."
   ]
  },
  {
   "cell_type": "code",
   "execution_count": null,
   "id": "a1d18b6e",
   "metadata": {},
   "outputs": [],
   "source": [
    "# Import required libraries\n",
    "import pandas as pd\n",
    "import numpy as np\n",
    "import gdown\n",
    "\n",
    "# Download the Superstore dataset from Google Drive\n",
    "gdrive_url = 'https://drive.google.com/uc?id=1jKP8eMnpbiho90sQ-1rC9lhSn6N1dJ64'\n",
    "output = 'superstore.csv'\n",
    "gdown.download(gdrive_url, output, quiet=False)\n",
    "\n",
    "# Load the dataset\n",
    "df = pd.read_csv(output)\n",
    "df.head()"
   ]
  },
  {
   "cell_type": "code",
   "execution_count": null,
   "id": "6c5450d2",
   "metadata": {},
   "outputs": [],
   "source": [
    "# Basic data cleaning\n",
    "# Check for missing values\n",
    "df.info()\n",
    "print('Missing values per column:')\n",
    "print(df.isnull().sum())\n",
    "\n",
    "# Remove duplicates\n",
    "df = df.drop_duplicates()\n",
    "\n",
    "# Example: Convert date columns to datetime if present\n",
    "if 'Order Date' in df.columns:\n",
    "    df['Order Date'] = pd.to_datetime(df['Order Date'], errors='coerce')\n",
    "if 'Ship Date' in df.columns:\n",
    "    df['Ship Date'] = pd.to_datetime(df['Ship Date'], errors='coerce')\n",
    "\n",
    "df.head()"
   ]
  }
 ],
 "metadata": {
  "language_info": {
   "name": "python"
  }
 },
 "nbformat": 4,
 "nbformat_minor": 5
}
