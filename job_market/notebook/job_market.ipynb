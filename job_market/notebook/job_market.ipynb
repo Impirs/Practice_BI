{
 "cells": [
  {
   "cell_type": "markdown",
   "id": "41db9990",
   "metadata": {},
   "source": [
    "# Global AI Job Market & Salary Trends 2025\n",
    "\n",
    "The dataset was obtained from the Kaggle website."
   ]
  },
  {
   "cell_type": "markdown",
   "id": "0323bc30",
   "metadata": {},
   "source": [
    "## Import required libraries and data"
   ]
  },
  {
   "cell_type": "code",
   "execution_count": 1,
   "id": "b1198941",
   "metadata": {},
   "outputs": [],
   "source": [
    "import pandas as pd\n",
    "import matplotlib.pyplot as plt\n",
    "import numpy as np\n",
    "import seaborn as sns\n",
    "import gdown"
   ]
  },
  {
   "cell_type": "code",
   "execution_count": null,
   "id": "7d8224c0",
   "metadata": {},
   "outputs": [
    {
     "ename": "NameError",
     "evalue": "name 'gdown' is not defined",
     "output_type": "error",
     "traceback": [
      "\u001b[31m---------------------------------------------------------------------------\u001b[39m",
      "\u001b[31mNameError\u001b[39m                                 Traceback (most recent call last)",
      "\u001b[36mCell\u001b[39m\u001b[36m \u001b[39m\u001b[32mIn[4]\u001b[39m\u001b[32m, line 6\u001b[39m\n\u001b[32m      3\u001b[39m url = \u001b[33mf\u001b[39m\u001b[33m\"\u001b[39m\u001b[33mhttps://drive.google.com/uc?id=\u001b[39m\u001b[38;5;132;01m{\u001b[39;00mfile_id\u001b[38;5;132;01m}\u001b[39;00m\u001b[33m\"\u001b[39m\n\u001b[32m      4\u001b[39m output = \u001b[33m\"\u001b[39m\u001b[33mletterboxd_movies.csv\u001b[39m\u001b[33m\"\u001b[39m\n\u001b[32m----> \u001b[39m\u001b[32m6\u001b[39m \u001b[43mgdown\u001b[49m.download(url, output, quiet=\u001b[38;5;28;01mFalse\u001b[39;00m)\n\u001b[32m      8\u001b[39m \u001b[38;5;66;03m# Load the dataset\u001b[39;00m\n\u001b[32m      9\u001b[39m df = pd.read_csv(output)\n",
      "\u001b[31mNameError\u001b[39m: name 'gdown' is not defined"
     ]
    }
   ],
   "source": [
    "# Get the dataset \n",
    "# https://drive.google.com/file/d/1dsikUM2umj1sD19A_RXB-v9a2vPziXyb/view?usp=sharing\n",
    "file_id = \"1dsikUM2umj1sD19A_RXB-v9a2vPziXyb\"\n",
    "url = f\"https://drive.google.com/uc?id={file_id}\"\n",
    "output = \"job_market.csv\"\n",
    "\n",
    "gdown.download(url, output, quiet=False)\n",
    "\n",
    "# Load the dataset\n",
    "df = pd.read_csv(output)\n",
    "df.head()"
   ]
  },
  {
   "cell_type": "code",
   "execution_count": null,
   "id": "4beacc67",
   "metadata": {},
   "outputs": [
    {
     "name": "stdout",
     "output_type": "stream",
     "text": [
      "<class 'pandas.core.frame.DataFrame'>\n",
      "RangeIndex: 15000 entries, 0 to 14999\n",
      "Data columns (total 19 columns):\n",
      " #   Column                  Non-Null Count  Dtype  \n",
      "---  ------                  --------------  -----  \n",
      " 0   job_id                  15000 non-null  object \n",
      " 1   job_title               15000 non-null  object \n",
      " 2   salary_usd              15000 non-null  int64  \n",
      " 3   salary_currency         15000 non-null  object \n",
      " 4   experience_level        15000 non-null  object \n",
      " 5   employment_type         15000 non-null  object \n",
      " 6   company_location        15000 non-null  object \n",
      " 7   company_size            15000 non-null  object \n",
      " 8   employee_residence      15000 non-null  object \n",
      " 9   remote_ratio            15000 non-null  int64  \n",
      " 10  required_skills         15000 non-null  object \n",
      " 11  education_required      15000 non-null  object \n",
      " 12  years_experience        15000 non-null  int64  \n",
      " 13  industry                15000 non-null  object \n",
      " 14  posting_date            15000 non-null  object \n",
      " 15  application_deadline    15000 non-null  object \n",
      " 16  job_description_length  15000 non-null  int64  \n",
      " 17  benefits_score          15000 non-null  float64\n",
      " 18  company_name            15000 non-null  object \n",
      "dtypes: float64(1), int64(4), object(14)\n",
      "memory usage: 2.2+ MB\n"
     ]
    }
   ],
   "source": [
    "df.info()"
   ]
  },
  {
   "cell_type": "markdown",
   "id": "ddc62558",
   "metadata": {},
   "source": [
    "## Data Cleaning\n",
    "\n",
    "- Check for missing values\n",
    "- Convert columns to appropriate types\n",
    "- Add colunms with shortcuts decode\n",
    "\n",
    "\n",
    "| Column name | Initial type | Converted type |\n",
    "|-------------|--------------|----------------|\n",
    "| posting_date | string | datetime |\n",
    "| application_deadline | string | datetime |\n",
    "| required_skills | string | array |\n"
   ]
  },
  {
   "cell_type": "code",
   "execution_count": null,
   "id": "81f6fb31",
   "metadata": {},
   "outputs": [],
   "source": [
    "def parce_array (df_string):\n",
    "    try: \n",
    "        return eval(df_string)\n",
    "    except:\n",
    "        return []\n",
    "\n",
    "def parce_dates (df_string):\n",
    "    try:\n",
    "        return pd.to_datetime(df_string, format='%Y-%m-%d', errors='coerce')\n",
    "    except Exception:\n",
    "        return pd.Series([pd.NaT] * len(df_string))\n",
    "\n",
    "def decode_column(df, df_column):\n",
    "    mapping = {\n",
    "        # employment_type\n",
    "        'FT': 'Full-time',\n",
    "        'PT': 'Part-time',\n",
    "        'CT': 'Contract',\n",
    "        'FL': 'Freelance',\n",
    "        'IN': 'Internship',\n",
    "        'TP': 'Temporary',\n",
    "\n",
    "        # experience_level\n",
    "        'EN': 'Entry',\n",
    "        'MI': 'Mid',\n",
    "        'SE': 'Senior',\n",
    "        'EX': 'Executive'\n",
    "    }\n",
    "    new_column = f\"{df_column}_full\"\n",
    "    df[new_column] = df[df_column].map(mapping).fillna('Other')\n",
    "    return df\n",
    "\n",
    "def clean_dataframe(df):\n",
    "    df = df.copy()\n",
    "    \n",
    "    df['required_skills'] = df['required_skills'].apply(parce_array)\n",
    "    df['posting_date'] = df['posting_date'].apply(parce_dates)\n",
    "    df['application_deadline'] = df['application_deadline'].apply(parce_dates)\n",
    "\n",
    "    df = decode_column(df, 'employment_type')\n",
    "    df = decode_column(df, 'experience_level')\n",
    "    \n",
    "    return df\n",
    "\n",
    "df = clean_dataframe(df)\n",
    "df.info()"
   ]
  },
  {
   "cell_type": "markdown",
   "id": "b5bfe485",
   "metadata": {},
   "source": [
    "## Export to Google Sheets\n",
    "Export analysis results to Google Sheets using gspread."
   ]
  },
  {
   "cell_type": "code",
   "execution_count": null,
   "id": "35c5bbed",
   "metadata": {},
   "outputs": [],
   "source": [
    "import gspread\n",
    "from gspread_dataframe import set_with_dataframe\n",
    "from google.colab import auth\n",
    "auth.authenticate_user()\n",
    "\n",
    "from google.auth import default\n",
    "creds, _ = default()\n",
    "gc = gspread.authorize(creds)\n",
    "\n",
    "spreadsheet = gc.create('JM_Analysis')\n",
    "worksheet = spreadsheet.get_worksheet(0)\n",
    "\n",
    "set_with_dataframe(worksheet, df)\n",
    "\n",
    "spreadsheet.url"
   ]
  }
 ],
 "metadata": {
  "kernelspec": {
   "display_name": "Python 3",
   "language": "python",
   "name": "python3"
  },
  "language_info": {
   "codemirror_mode": {
    "name": "ipython",
    "version": 3
   },
   "file_extension": ".py",
   "mimetype": "text/x-python",
   "name": "python",
   "nbconvert_exporter": "python",
   "pygments_lexer": "ipython3",
   "version": "3.13.4"
  }
 },
 "nbformat": 4,
 "nbformat_minor": 5
}
